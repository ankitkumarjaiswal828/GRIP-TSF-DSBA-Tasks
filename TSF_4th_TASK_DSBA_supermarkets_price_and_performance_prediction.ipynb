{
  "nbformat": 4,
  "nbformat_minor": 0,
  "metadata": {
    "colab": {
      "name": "TSF_4th-TASK_DSBA_supermarkets_price and performance_prediction.ipynb",
      "provenance": []
    },
    "kernelspec": {
      "name": "python3",
      "display_name": "Python 3"
    }
  },
  "cells": [
    {
      "cell_type": "markdown",
      "metadata": {
        "id": "PTXxehXOcMhY"
      },
      "source": [
        "***Stock  Market Prediction  using  Numerical and  Textual Analysis***\n",
        "\n"
      ]
    },
    {
      "cell_type": "code",
      "metadata": {
        "id": "V-B6wHeIRMOL"
      },
      "source": [
        "import pandas as pd\n",
        "import numpy  as np\n",
        "import seaborn as sns\n",
        "import matplotlib.pyplot as plt"
      ],
      "execution_count": 3,
      "outputs": []
    },
    {
      "cell_type": "code",
      "metadata": {
        "id": "jkec5UR7UFlh"
      },
      "source": [
        "import warnings\n",
        "warnings.filterwarnings('ignore')"
      ],
      "execution_count": 77,
      "outputs": []
    },
    {
      "cell_type": "code",
      "metadata": {
        "id": "DiIdOplAKUGY"
      },
      "source": [
        "from textblob import TextBlob\n",
        "from nltk.tokenize import sent_tokenize, word_tokenize\n",
        "from nltk.stem import PorterStemmer\n"
      ],
      "execution_count": 78,
      "outputs": []
    },
    {
      "cell_type": "code",
      "metadata": {
        "id": "Pip5M3qDKzvN"
      },
      "source": [
        "from nltk.corpus import stopwords\n",
        "import nltk"
      ],
      "execution_count": 79,
      "outputs": []
    },
    {
      "cell_type": "code",
      "metadata": {
        "id": "pHU1MZrvN1Wb",
        "outputId": "ec1f0304-f274-4da8-d74e-d3757e0c07d9",
        "colab": {
          "base_uri": "https://localhost:8080/",
          "height": 425
        }
      },
      "source": [
        "from nltk.corpus import stopwords\n",
        "import nltk\n",
        "nltk.download()\n",
        "print('Imported')"
      ],
      "execution_count": 81,
      "outputs": [
        {
          "output_type": "stream",
          "text": [
            "NLTK Downloader\n",
            "---------------------------------------------------------------------------\n",
            "    d) Download   l) List    u) Update   c) Config   h) Help   q) Quit\n",
            "---------------------------------------------------------------------------\n",
            "Downloader> d\n",
            "\n",
            "Download which package (l=list; x=cancel)?\n",
            "  Identifier> d\n",
            "    Error loading d: Package 'd' not found in index\n",
            "\n",
            "---------------------------------------------------------------------------\n",
            "    d) Download   l) List    u) Update   c) Config   h) Help   q) Quit\n",
            "---------------------------------------------------------------------------\n",
            "Downloader> d\n",
            "\n",
            "Download which package (l=list; x=cancel)?\n",
            "  Identifier> d\n",
            "    Error loading d: Package 'd' not found in index\n",
            "\n",
            "---------------------------------------------------------------------------\n",
            "    d) Download   l) List    u) Update   c) Config   h) Help   q) Quit\n",
            "---------------------------------------------------------------------------\n",
            "Downloader> q\n",
            "Imported\n"
          ],
          "name": "stdout"
        }
      ]
    },
    {
      "cell_type": "code",
      "metadata": {
        "id": "cRB65qvdQuvQ",
        "outputId": "177a3590-4da2-49c7-fd34-85c79233b0a6",
        "colab": {
          "base_uri": "https://localhost:8080/",
          "height": 68
        }
      },
      "source": [
        "import nltk\n",
        "nltk.download('stopwords')"
      ],
      "execution_count": 82,
      "outputs": [
        {
          "output_type": "stream",
          "text": [
            "[nltk_data] Downloading package stopwords to /root/nltk_data...\n",
            "[nltk_data]   Package stopwords is already up-to-date!\n"
          ],
          "name": "stdout"
        },
        {
          "output_type": "execute_result",
          "data": {
            "text/plain": [
              "True"
            ]
          },
          "metadata": {
            "tags": []
          },
          "execution_count": 82
        }
      ]
    },
    {
      "cell_type": "code",
      "metadata": {
        "id": "hViQk6G6SvH5",
        "outputId": "f3c3d07b-4459-4fb8-a461-41fec2a3c2b3",
        "colab": {
          "base_uri": "https://localhost:8080/",
          "height": 204
        }
      },
      "source": [
        "df=pd.read_csv('/content/india-news-headlines.csv')\n",
        "df.head()"
      ],
      "execution_count": 83,
      "outputs": [
        {
          "output_type": "execute_result",
          "data": {
            "text/html": [
              "<div>\n",
              "<style scoped>\n",
              "    .dataframe tbody tr th:only-of-type {\n",
              "        vertical-align: middle;\n",
              "    }\n",
              "\n",
              "    .dataframe tbody tr th {\n",
              "        vertical-align: top;\n",
              "    }\n",
              "\n",
              "    .dataframe thead th {\n",
              "        text-align: right;\n",
              "    }\n",
              "</style>\n",
              "<table border=\"1\" class=\"dataframe\">\n",
              "  <thead>\n",
              "    <tr style=\"text-align: right;\">\n",
              "      <th></th>\n",
              "      <th>publish_date</th>\n",
              "      <th>headline_category</th>\n",
              "      <th>headline_text</th>\n",
              "    </tr>\n",
              "  </thead>\n",
              "  <tbody>\n",
              "    <tr>\n",
              "      <th>0</th>\n",
              "      <td>20010101</td>\n",
              "      <td>sports.wwe</td>\n",
              "      <td>win over cena satisfying but defeating underta...</td>\n",
              "    </tr>\n",
              "    <tr>\n",
              "      <th>1</th>\n",
              "      <td>20010102</td>\n",
              "      <td>unknown</td>\n",
              "      <td>Status quo will not be disturbed at Ayodhya; s...</td>\n",
              "    </tr>\n",
              "    <tr>\n",
              "      <th>2</th>\n",
              "      <td>20010102</td>\n",
              "      <td>unknown</td>\n",
              "      <td>Fissures in Hurriyat over Pak visit</td>\n",
              "    </tr>\n",
              "    <tr>\n",
              "      <th>3</th>\n",
              "      <td>20010102</td>\n",
              "      <td>unknown</td>\n",
              "      <td>America's unwanted heading for India?</td>\n",
              "    </tr>\n",
              "    <tr>\n",
              "      <th>4</th>\n",
              "      <td>20010102</td>\n",
              "      <td>unknown</td>\n",
              "      <td>For bigwigs; it is destination Goa</td>\n",
              "    </tr>\n",
              "  </tbody>\n",
              "</table>\n",
              "</div>"
            ],
            "text/plain": [
              "   publish_date  ...                                      headline_text\n",
              "0      20010101  ...  win over cena satisfying but defeating underta...\n",
              "1      20010102  ...  Status quo will not be disturbed at Ayodhya; s...\n",
              "2      20010102  ...                Fissures in Hurriyat over Pak visit\n",
              "3      20010102  ...              America's unwanted heading for India?\n",
              "4      20010102  ...                 For bigwigs; it is destination Goa\n",
              "\n",
              "[5 rows x 3 columns]"
            ]
          },
          "metadata": {
            "tags": []
          },
          "execution_count": 83
        }
      ]
    },
    {
      "cell_type": "code",
      "metadata": {
        "id": "v7gys-QbLUsX",
        "outputId": "755f15b2-3626-4c6d-ee15-8835bafde367",
        "colab": {
          "base_uri": "https://localhost:8080/",
          "height": 204
        }
      },
      "source": [
        "df1=df[[\"headline_category\",\"headline_text\"]]\n",
        "df1.to_csv('df1.csv',index=False)\n",
        "df2=pd.read_csv('df1.csv')\n",
        "df2.columns = [\"headline_category\",\"headline_text\"]\n",
        "df2=df2.head(5000)\n",
        "df2.head()"
      ],
      "execution_count": 84,
      "outputs": [
        {
          "output_type": "execute_result",
          "data": {
            "text/html": [
              "<div>\n",
              "<style scoped>\n",
              "    .dataframe tbody tr th:only-of-type {\n",
              "        vertical-align: middle;\n",
              "    }\n",
              "\n",
              "    .dataframe tbody tr th {\n",
              "        vertical-align: top;\n",
              "    }\n",
              "\n",
              "    .dataframe thead th {\n",
              "        text-align: right;\n",
              "    }\n",
              "</style>\n",
              "<table border=\"1\" class=\"dataframe\">\n",
              "  <thead>\n",
              "    <tr style=\"text-align: right;\">\n",
              "      <th></th>\n",
              "      <th>headline_category</th>\n",
              "      <th>headline_text</th>\n",
              "    </tr>\n",
              "  </thead>\n",
              "  <tbody>\n",
              "    <tr>\n",
              "      <th>0</th>\n",
              "      <td>sports.wwe</td>\n",
              "      <td>win over cena satisfying but defeating underta...</td>\n",
              "    </tr>\n",
              "    <tr>\n",
              "      <th>1</th>\n",
              "      <td>unknown</td>\n",
              "      <td>Status quo will not be disturbed at Ayodhya; s...</td>\n",
              "    </tr>\n",
              "    <tr>\n",
              "      <th>2</th>\n",
              "      <td>unknown</td>\n",
              "      <td>Fissures in Hurriyat over Pak visit</td>\n",
              "    </tr>\n",
              "    <tr>\n",
              "      <th>3</th>\n",
              "      <td>unknown</td>\n",
              "      <td>America's unwanted heading for India?</td>\n",
              "    </tr>\n",
              "    <tr>\n",
              "      <th>4</th>\n",
              "      <td>unknown</td>\n",
              "      <td>For bigwigs; it is destination Goa</td>\n",
              "    </tr>\n",
              "  </tbody>\n",
              "</table>\n",
              "</div>"
            ],
            "text/plain": [
              "  headline_category                                      headline_text\n",
              "0        sports.wwe  win over cena satisfying but defeating underta...\n",
              "1           unknown  Status quo will not be disturbed at Ayodhya; s...\n",
              "2           unknown                Fissures in Hurriyat over Pak visit\n",
              "3           unknown              America's unwanted heading for India?\n",
              "4           unknown                 For bigwigs; it is destination Goa"
            ]
          },
          "metadata": {
            "tags": []
          },
          "execution_count": 84
        }
      ]
    },
    {
      "cell_type": "code",
      "metadata": {
        "id": "4GjgIwNJUlL9",
        "outputId": "fc72e449-1abd-410d-f54f-b06474fbe996",
        "colab": {
          "base_uri": "https://localhost:8080/",
          "height": 419
        }
      },
      "source": [
        "#Dropping duplicate rows\n",
        "df2=df2.dropna()\n",
        "df2.duplicated().sum()\n",
        "df2=df2.drop_duplicates()\n",
        "df2"
      ],
      "execution_count": 85,
      "outputs": [
        {
          "output_type": "execute_result",
          "data": {
            "text/html": [
              "<div>\n",
              "<style scoped>\n",
              "    .dataframe tbody tr th:only-of-type {\n",
              "        vertical-align: middle;\n",
              "    }\n",
              "\n",
              "    .dataframe tbody tr th {\n",
              "        vertical-align: top;\n",
              "    }\n",
              "\n",
              "    .dataframe thead th {\n",
              "        text-align: right;\n",
              "    }\n",
              "</style>\n",
              "<table border=\"1\" class=\"dataframe\">\n",
              "  <thead>\n",
              "    <tr style=\"text-align: right;\">\n",
              "      <th></th>\n",
              "      <th>headline_category</th>\n",
              "      <th>headline_text</th>\n",
              "    </tr>\n",
              "  </thead>\n",
              "  <tbody>\n",
              "    <tr>\n",
              "      <th>0</th>\n",
              "      <td>sports.wwe</td>\n",
              "      <td>win over cena satisfying but defeating underta...</td>\n",
              "    </tr>\n",
              "    <tr>\n",
              "      <th>1</th>\n",
              "      <td>unknown</td>\n",
              "      <td>Status quo will not be disturbed at Ayodhya; s...</td>\n",
              "    </tr>\n",
              "    <tr>\n",
              "      <th>2</th>\n",
              "      <td>unknown</td>\n",
              "      <td>Fissures in Hurriyat over Pak visit</td>\n",
              "    </tr>\n",
              "    <tr>\n",
              "      <th>3</th>\n",
              "      <td>unknown</td>\n",
              "      <td>America's unwanted heading for India?</td>\n",
              "    </tr>\n",
              "    <tr>\n",
              "      <th>4</th>\n",
              "      <td>unknown</td>\n",
              "      <td>For bigwigs; it is destination Goa</td>\n",
              "    </tr>\n",
              "    <tr>\n",
              "      <th>...</th>\n",
              "      <td>...</td>\n",
              "      <td>...</td>\n",
              "    </tr>\n",
              "    <tr>\n",
              "      <th>4995</th>\n",
              "      <td>city.mumbai</td>\n",
              "      <td>Residents upbeat about Premier's second coming</td>\n",
              "    </tr>\n",
              "    <tr>\n",
              "      <th>4996</th>\n",
              "      <td>city.bengaluru</td>\n",
              "      <td>Flashback time: remembering Jim Corbett</td>\n",
              "    </tr>\n",
              "    <tr>\n",
              "      <th>4997</th>\n",
              "      <td>city.hyderabad</td>\n",
              "      <td>Oracle to invest $15m in development centre</td>\n",
              "    </tr>\n",
              "    <tr>\n",
              "      <th>4998</th>\n",
              "      <td>india</td>\n",
              "      <td>Foreigners' order to be reviewed</td>\n",
              "    </tr>\n",
              "    <tr>\n",
              "      <th>4999</th>\n",
              "      <td>city.lucknow</td>\n",
              "      <td>Dismissal order should not be passed in hurry:HC</td>\n",
              "    </tr>\n",
              "  </tbody>\n",
              "</table>\n",
              "<p>4337 rows × 2 columns</p>\n",
              "</div>"
            ],
            "text/plain": [
              "     headline_category                                      headline_text\n",
              "0           sports.wwe  win over cena satisfying but defeating underta...\n",
              "1              unknown  Status quo will not be disturbed at Ayodhya; s...\n",
              "2              unknown                Fissures in Hurriyat over Pak visit\n",
              "3              unknown              America's unwanted heading for India?\n",
              "4              unknown                 For bigwigs; it is destination Goa\n",
              "...                ...                                                ...\n",
              "4995       city.mumbai     Residents upbeat about Premier's second coming\n",
              "4996    city.bengaluru            Flashback time: remembering Jim Corbett\n",
              "4997    city.hyderabad        Oracle to invest $15m in development centre\n",
              "4998             india                   Foreigners' order to be reviewed\n",
              "4999      city.lucknow   Dismissal order should not be passed in hurry:HC\n",
              "\n",
              "[4337 rows x 2 columns]"
            ]
          },
          "metadata": {
            "tags": []
          },
          "execution_count": 85
        }
      ]
    },
    {
      "cell_type": "code",
      "metadata": {
        "id": "yp98ZXNMHjHS",
        "outputId": "5fab4592-8d0a-4227-a1ed-0199def7ee8e",
        "colab": {
          "base_uri": "https://localhost:8080/",
          "height": 810
        }
      },
      "source": [
        "#NOW LET'S LOOK FOR A TREND IN THE COLUMN \"HEADLINE CATEGORY\" THROUGH VISUALIZATION\n",
        "plt.figure(figsize=(15,15))\n",
        "sns.set_theme()\n",
        "ax=sns.countplot(y=df2['headline_category'],palette=\"Reds\")\n",
        "plt.yticks(fontsize=12);\n",
        "plt.ylabel('HEADLINE_CATEGORY', fontsize=20)\n",
        "plt.xlabel('COUNTS',fontsize=15)\n",
        "total = len(df2['headline_category'])\n",
        "for p in ax.patches:\n",
        "        percentage = '{:.1f}%'.format(100 * p.get_width()/total)\n",
        "        x = p.get_x() + p.get_width() + 0.02\n",
        "        y = p.get_y() + p.get_height()/2\n",
        "        ax.annotate(percentage, (x, y))\n",
        "plt.show() "
      ],
      "execution_count": 86,
      "outputs": [
        {
          "output_type": "display_data",
          "data": {
            "image/png": "[encoded data removed]",
            "text/plain": [
              "<Figure size 1080x1080 with 1 Axes>"
            ]
          },
          "metadata": {
            "tags": []
          }
        }
      ]
    },
    {
      "cell_type": "code",
      "metadata": {
        "id": "38STf72mL71W",
        "outputId": "a008a8ce-1da1-4bbb-f6ac-a04382ade027",
        "colab": {
          "base_uri": "https://localhost:8080/",
          "height": 810
        }
      },
      "source": [
        "#LET'S REMOVE THE CATEGORY - \"UNKNOWN\" FOR THE FOLLOWING PLOT AND VISUALIZE THE TREND, AS IT HOLDS MORE THAN 90 PERCENTAGE OF THE SPACE\n",
        "plt.figure(figsize=(15,15))\n",
        "df211=df2[df2['headline_category']!='unknown']\n",
        "ax=sns.countplot(y=df211['headline_category'],palette=\"Blues\")\n",
        "plt.yticks(fontsize=12);\n",
        "plt.ylabel('HEADLINE_CATEGORY', fontsize=20)\n",
        "plt.xlabel('COUNTS',fontsize=15)\n",
        "total = len(df211['headline_category'])\n",
        "for p in ax.patches:\n",
        "        percentage = '{:.1f}%'.format(100 * p.get_width()/total)\n",
        "        x = p.get_x() + p.get_width() + 0.02\n",
        "        y = p.get_y() + p.get_height()/2\n",
        "        ax.annotate(percentage, (x, y))\n",
        "plt.show()"
      ],
      "execution_count": 87,
      "outputs": [
        {
          "output_type": "display_data",
          "data": {
            "image/png": "[encoded data removed]",
            "text/plain": [
              "<Figure size 1080x1080 with 1 Axes>"
            ]
          },
          "metadata": {
            "tags": []
          }
        }
      ]
    },
    {
      "cell_type": "code",
      "metadata": {
        "id": "wYMOssy1MJ88",
        "outputId": "9424df0d-fa3c-40cf-983a-e57af40871b4",
        "colab": {
          "base_uri": "https://localhost:8080/",
          "height": 204
        }
      },
      "source": [
        "#NUMBER OF WORDS IN EACH ROW:\n",
        "df2['word_count'] = df2['headline_text'].apply(lambda x: len(str(x).split(\" \")))\n",
        "df2[['headline_text','word_count']].head()"
      ],
      "execution_count": 88,
      "outputs": [
        {
          "output_type": "execute_result",
          "data": {
            "text/html": [
              "<div>\n",
              "<style scoped>\n",
              "    .dataframe tbody tr th:only-of-type {\n",
              "        vertical-align: middle;\n",
              "    }\n",
              "\n",
              "    .dataframe tbody tr th {\n",
              "        vertical-align: top;\n",
              "    }\n",
              "\n",
              "    .dataframe thead th {\n",
              "        text-align: right;\n",
              "    }\n",
              "</style>\n",
              "<table border=\"1\" class=\"dataframe\">\n",
              "  <thead>\n",
              "    <tr style=\"text-align: right;\">\n",
              "      <th></th>\n",
              "      <th>headline_text</th>\n",
              "      <th>word_count</th>\n",
              "    </tr>\n",
              "  </thead>\n",
              "  <tbody>\n",
              "    <tr>\n",
              "      <th>0</th>\n",
              "      <td>win over cena satisfying but defeating underta...</td>\n",
              "      <td>10</td>\n",
              "    </tr>\n",
              "    <tr>\n",
              "      <th>1</th>\n",
              "      <td>Status quo will not be disturbed at Ayodhya; s...</td>\n",
              "      <td>10</td>\n",
              "    </tr>\n",
              "    <tr>\n",
              "      <th>2</th>\n",
              "      <td>Fissures in Hurriyat over Pak visit</td>\n",
              "      <td>6</td>\n",
              "    </tr>\n",
              "    <tr>\n",
              "      <th>3</th>\n",
              "      <td>America's unwanted heading for India?</td>\n",
              "      <td>5</td>\n",
              "    </tr>\n",
              "    <tr>\n",
              "      <th>4</th>\n",
              "      <td>For bigwigs; it is destination Goa</td>\n",
              "      <td>6</td>\n",
              "    </tr>\n",
              "  </tbody>\n",
              "</table>\n",
              "</div>"
            ],
            "text/plain": [
              "                                       headline_text  word_count\n",
              "0  win over cena satisfying but defeating underta...          10\n",
              "1  Status quo will not be disturbed at Ayodhya; s...          10\n",
              "2                Fissures in Hurriyat over Pak visit           6\n",
              "3              America's unwanted heading for India?           5\n",
              "4                 For bigwigs; it is destination Goa           6"
            ]
          },
          "metadata": {
            "tags": []
          },
          "execution_count": 88
        }
      ]
    },
    {
      "cell_type": "code",
      "metadata": {
        "id": "oJE02xP3MXs8",
        "outputId": "408b0296-6650-4a71-c9ee-418eb3f08861",
        "colab": {
          "base_uri": "https://localhost:8080/",
          "height": 204
        }
      },
      "source": [
        "#NUMBER OF CHARACTERS IN EACH STATEMENTS FROM EACH ROW\n",
        "df2['char_count'] = df2['headline_text'].str.len()\n",
        "df2[['headline_text','char_count']].head()"
      ],
      "execution_count": 89,
      "outputs": [
        {
          "output_type": "execute_result",
          "data": {
            "text/html": [
              "<div>\n",
              "<style scoped>\n",
              "    .dataframe tbody tr th:only-of-type {\n",
              "        vertical-align: middle;\n",
              "    }\n",
              "\n",
              "    .dataframe tbody tr th {\n",
              "        vertical-align: top;\n",
              "    }\n",
              "\n",
              "    .dataframe thead th {\n",
              "        text-align: right;\n",
              "    }\n",
              "</style>\n",
              "<table border=\"1\" class=\"dataframe\">\n",
              "  <thead>\n",
              "    <tr style=\"text-align: right;\">\n",
              "      <th></th>\n",
              "      <th>headline_text</th>\n",
              "      <th>char_count</th>\n",
              "    </tr>\n",
              "  </thead>\n",
              "  <tbody>\n",
              "    <tr>\n",
              "      <th>0</th>\n",
              "      <td>win over cena satisfying but defeating underta...</td>\n",
              "      <td>69</td>\n",
              "    </tr>\n",
              "    <tr>\n",
              "      <th>1</th>\n",
              "      <td>Status quo will not be disturbed at Ayodhya; s...</td>\n",
              "      <td>58</td>\n",
              "    </tr>\n",
              "    <tr>\n",
              "      <th>2</th>\n",
              "      <td>Fissures in Hurriyat over Pak visit</td>\n",
              "      <td>35</td>\n",
              "    </tr>\n",
              "    <tr>\n",
              "      <th>3</th>\n",
              "      <td>America's unwanted heading for India?</td>\n",
              "      <td>37</td>\n",
              "    </tr>\n",
              "    <tr>\n",
              "      <th>4</th>\n",
              "      <td>For bigwigs; it is destination Goa</td>\n",
              "      <td>34</td>\n",
              "    </tr>\n",
              "  </tbody>\n",
              "</table>\n",
              "</div>"
            ],
            "text/plain": [
              "                                       headline_text  char_count\n",
              "0  win over cena satisfying but defeating underta...          69\n",
              "1  Status quo will not be disturbed at Ayodhya; s...          58\n",
              "2                Fissures in Hurriyat over Pak visit          35\n",
              "3              America's unwanted heading for India?          37\n",
              "4                 For bigwigs; it is destination Goa          34"
            ]
          },
          "metadata": {
            "tags": []
          },
          "execution_count": 89
        }
      ]
    },
    {
      "cell_type": "code",
      "metadata": {
        "id": "CSZYyl-KMlVE",
        "outputId": "89eb95a7-0f92-4bf7-e744-223e52255ced",
        "colab": {
          "base_uri": "https://localhost:8080/",
          "height": 204
        }
      },
      "source": [
        "#CALCULATING AVERAGE WORD LENGTH\n",
        "def avg_word(sentence):\n",
        "  words = sentence.split()\n",
        "  return (sum(len(word) for word in words)/len(words))\n",
        "\n",
        "df2['avg_word'] = df2['headline_text'].apply(lambda x: avg_word(x))\n",
        "df2[['headline_text','avg_word']].head()"
      ],
      "execution_count": 90,
      "outputs": [
        {
          "output_type": "execute_result",
          "data": {
            "text/html": [
              "<div>\n",
              "<style scoped>\n",
              "    .dataframe tbody tr th:only-of-type {\n",
              "        vertical-align: middle;\n",
              "    }\n",
              "\n",
              "    .dataframe tbody tr th {\n",
              "        vertical-align: top;\n",
              "    }\n",
              "\n",
              "    .dataframe thead th {\n",
              "        text-align: right;\n",
              "    }\n",
              "</style>\n",
              "<table border=\"1\" class=\"dataframe\">\n",
              "  <thead>\n",
              "    <tr style=\"text-align: right;\">\n",
              "      <th></th>\n",
              "      <th>headline_text</th>\n",
              "      <th>avg_word</th>\n",
              "    </tr>\n",
              "  </thead>\n",
              "  <tbody>\n",
              "    <tr>\n",
              "      <th>0</th>\n",
              "      <td>win over cena satisfying but defeating underta...</td>\n",
              "      <td>6.000000</td>\n",
              "    </tr>\n",
              "    <tr>\n",
              "      <th>1</th>\n",
              "      <td>Status quo will not be disturbed at Ayodhya; s...</td>\n",
              "      <td>4.900000</td>\n",
              "    </tr>\n",
              "    <tr>\n",
              "      <th>2</th>\n",
              "      <td>Fissures in Hurriyat over Pak visit</td>\n",
              "      <td>5.000000</td>\n",
              "    </tr>\n",
              "    <tr>\n",
              "      <th>3</th>\n",
              "      <td>America's unwanted heading for India?</td>\n",
              "      <td>6.600000</td>\n",
              "    </tr>\n",
              "    <tr>\n",
              "      <th>4</th>\n",
              "      <td>For bigwigs; it is destination Goa</td>\n",
              "      <td>4.833333</td>\n",
              "    </tr>\n",
              "  </tbody>\n",
              "</table>\n",
              "</div>"
            ],
            "text/plain": [
              "                                       headline_text  avg_word\n",
              "0  win over cena satisfying but defeating underta...  6.000000\n",
              "1  Status quo will not be disturbed at Ayodhya; s...  4.900000\n",
              "2                Fissures in Hurriyat over Pak visit  5.000000\n",
              "3              America's unwanted heading for India?  6.600000\n",
              "4                 For bigwigs; it is destination Goa  4.833333"
            ]
          },
          "metadata": {
            "tags": []
          },
          "execution_count": 90
        }
      ]
    },
    {
      "cell_type": "code",
      "metadata": {
        "id": "GX_r6ft_ND8d",
        "outputId": "6576132c-cf88-4d22-c20f-27b24c052042",
        "colab": {
          "base_uri": "https://localhost:8080/",
          "height": 204
        }
      },
      "source": [
        "#NUMBER OF SPECIAL CHARACTERS IN EACH STATEMENTS\n",
        "df2['hastags'] = df2['headline_text'].apply(lambda x: len([x for x in x.split() if x.startswith('#')]))\n",
        "df2[['headline_text','hastags']].head()"
      ],
      "execution_count": 92,
      "outputs": [
        {
          "output_type": "execute_result",
          "data": {
            "text/html": [
              "<div>\n",
              "<style scoped>\n",
              "    .dataframe tbody tr th:only-of-type {\n",
              "        vertical-align: middle;\n",
              "    }\n",
              "\n",
              "    .dataframe tbody tr th {\n",
              "        vertical-align: top;\n",
              "    }\n",
              "\n",
              "    .dataframe thead th {\n",
              "        text-align: right;\n",
              "    }\n",
              "</style>\n",
              "<table border=\"1\" class=\"dataframe\">\n",
              "  <thead>\n",
              "    <tr style=\"text-align: right;\">\n",
              "      <th></th>\n",
              "      <th>headline_text</th>\n",
              "      <th>hastags</th>\n",
              "    </tr>\n",
              "  </thead>\n",
              "  <tbody>\n",
              "    <tr>\n",
              "      <th>0</th>\n",
              "      <td>win over cena satisfying but defeating underta...</td>\n",
              "      <td>0</td>\n",
              "    </tr>\n",
              "    <tr>\n",
              "      <th>1</th>\n",
              "      <td>Status quo will not be disturbed at Ayodhya; s...</td>\n",
              "      <td>0</td>\n",
              "    </tr>\n",
              "    <tr>\n",
              "      <th>2</th>\n",
              "      <td>Fissures in Hurriyat over Pak visit</td>\n",
              "      <td>0</td>\n",
              "    </tr>\n",
              "    <tr>\n",
              "      <th>3</th>\n",
              "      <td>America's unwanted heading for India?</td>\n",
              "      <td>0</td>\n",
              "    </tr>\n",
              "    <tr>\n",
              "      <th>4</th>\n",
              "      <td>For bigwigs; it is destination Goa</td>\n",
              "      <td>0</td>\n",
              "    </tr>\n",
              "  </tbody>\n",
              "</table>\n",
              "</div>"
            ],
            "text/plain": [
              "                                       headline_text  hastags\n",
              "0  win over cena satisfying but defeating underta...        0\n",
              "1  Status quo will not be disturbed at Ayodhya; s...        0\n",
              "2                Fissures in Hurriyat over Pak visit        0\n",
              "3              America's unwanted heading for India?        0\n",
              "4                 For bigwigs; it is destination Goa        0"
            ]
          },
          "metadata": {
            "tags": []
          },
          "execution_count": 92
        }
      ]
    },
    {
      "cell_type": "code",
      "metadata": {
        "id": "4xsol-IVNjdk",
        "outputId": "c1410a27-4215-4a14-ddfb-568fa8c54b0e",
        "colab": {
          "base_uri": "https://localhost:8080/",
          "height": 204
        }
      },
      "source": [
        "### **NUMBER OF NUMERICS IN EACH STATEMENTS**\n",
        "df2['numerics'] = df2['headline_text'].apply(lambda x: len([x for x in x.split() if x.isdigit()]))\n",
        "df2[['headline_text','numerics']].head()"
      ],
      "execution_count": 93,
      "outputs": [
        {
          "output_type": "execute_result",
          "data": {
            "text/html": [
              "<div>\n",
              "<style scoped>\n",
              "    .dataframe tbody tr th:only-of-type {\n",
              "        vertical-align: middle;\n",
              "    }\n",
              "\n",
              "    .dataframe tbody tr th {\n",
              "        vertical-align: top;\n",
              "    }\n",
              "\n",
              "    .dataframe thead th {\n",
              "        text-align: right;\n",
              "    }\n",
              "</style>\n",
              "<table border=\"1\" class=\"dataframe\">\n",
              "  <thead>\n",
              "    <tr style=\"text-align: right;\">\n",
              "      <th></th>\n",
              "      <th>headline_text</th>\n",
              "      <th>numerics</th>\n",
              "    </tr>\n",
              "  </thead>\n",
              "  <tbody>\n",
              "    <tr>\n",
              "      <th>0</th>\n",
              "      <td>win over cena satisfying but defeating underta...</td>\n",
              "      <td>0</td>\n",
              "    </tr>\n",
              "    <tr>\n",
              "      <th>1</th>\n",
              "      <td>Status quo will not be disturbed at Ayodhya; s...</td>\n",
              "      <td>0</td>\n",
              "    </tr>\n",
              "    <tr>\n",
              "      <th>2</th>\n",
              "      <td>Fissures in Hurriyat over Pak visit</td>\n",
              "      <td>0</td>\n",
              "    </tr>\n",
              "    <tr>\n",
              "      <th>3</th>\n",
              "      <td>America's unwanted heading for India?</td>\n",
              "      <td>0</td>\n",
              "    </tr>\n",
              "    <tr>\n",
              "      <th>4</th>\n",
              "      <td>For bigwigs; it is destination Goa</td>\n",
              "      <td>0</td>\n",
              "    </tr>\n",
              "  </tbody>\n",
              "</table>\n",
              "</div>"
            ],
            "text/plain": [
              "                                       headline_text  numerics\n",
              "0  win over cena satisfying but defeating underta...         0\n",
              "1  Status quo will not be disturbed at Ayodhya; s...         0\n",
              "2                Fissures in Hurriyat over Pak visit         0\n",
              "3              America's unwanted heading for India?         0\n",
              "4                 For bigwigs; it is destination Goa         0"
            ]
          },
          "metadata": {
            "tags": []
          },
          "execution_count": 93
        }
      ]
    },
    {
      "cell_type": "code",
      "metadata": {
        "id": "OCmZ5AeTPfaZ",
        "outputId": "9dacaa6a-2b35-4a1a-a1a8-ecec8176334b",
        "colab": {
          "base_uri": "https://localhost:8080/",
          "height": 204
        }
      },
      "source": [
        "#NUMBER OF UPPERCASE WORDS IN EACH HEADLINES FROM EACH ROW\n",
        "df2['upper'] = df2['headline_text'].apply(lambda x: len([x for x in x.split() if x.isupper()]))\n",
        "df2[['headline_text','upper']].head()"
      ],
      "execution_count": 94,
      "outputs": [
        {
          "output_type": "execute_result",
          "data": {
            "text/html": [
              "<div>\n",
              "<style scoped>\n",
              "    .dataframe tbody tr th:only-of-type {\n",
              "        vertical-align: middle;\n",
              "    }\n",
              "\n",
              "    .dataframe tbody tr th {\n",
              "        vertical-align: top;\n",
              "    }\n",
              "\n",
              "    .dataframe thead th {\n",
              "        text-align: right;\n",
              "    }\n",
              "</style>\n",
              "<table border=\"1\" class=\"dataframe\">\n",
              "  <thead>\n",
              "    <tr style=\"text-align: right;\">\n",
              "      <th></th>\n",
              "      <th>headline_text</th>\n",
              "      <th>upper</th>\n",
              "    </tr>\n",
              "  </thead>\n",
              "  <tbody>\n",
              "    <tr>\n",
              "      <th>0</th>\n",
              "      <td>win over cena satisfying but defeating underta...</td>\n",
              "      <td>0</td>\n",
              "    </tr>\n",
              "    <tr>\n",
              "      <th>1</th>\n",
              "      <td>Status quo will not be disturbed at Ayodhya; s...</td>\n",
              "      <td>0</td>\n",
              "    </tr>\n",
              "    <tr>\n",
              "      <th>2</th>\n",
              "      <td>Fissures in Hurriyat over Pak visit</td>\n",
              "      <td>0</td>\n",
              "    </tr>\n",
              "    <tr>\n",
              "      <th>3</th>\n",
              "      <td>America's unwanted heading for India?</td>\n",
              "      <td>0</td>\n",
              "    </tr>\n",
              "    <tr>\n",
              "      <th>4</th>\n",
              "      <td>For bigwigs; it is destination Goa</td>\n",
              "      <td>0</td>\n",
              "    </tr>\n",
              "  </tbody>\n",
              "</table>\n",
              "</div>"
            ],
            "text/plain": [
              "                                       headline_text  upper\n",
              "0  win over cena satisfying but defeating underta...      0\n",
              "1  Status quo will not be disturbed at Ayodhya; s...      0\n",
              "2                Fissures in Hurriyat over Pak visit      0\n",
              "3              America's unwanted heading for India?      0\n",
              "4                 For bigwigs; it is destination Goa      0"
            ]
          },
          "metadata": {
            "tags": []
          },
          "execution_count": 94
        }
      ]
    },
    {
      "cell_type": "code",
      "metadata": {
        "id": "wcJtfFArP4We",
        "outputId": "39be31c9-e96e-4a08-8d03-9a4ff56c0334",
        "colab": {
          "base_uri": "https://localhost:8080/",
          "height": 119
        }
      },
      "source": [
        "#NOW LET'S PREPROCESS THE DATA-CONVERTING EVERY WORDS IN THE COLUMN TO LOWER CASE\n",
        "df2['headline_text'] = df2['headline_text'].apply(lambda x: \" \".join(x.lower() for x in x.split()))\n",
        "df2['headline_text'].head()"
      ],
      "execution_count": 95,
      "outputs": [
        {
          "output_type": "execute_result",
          "data": {
            "text/plain": [
              "0    win over cena satisfying but defeating underta...\n",
              "1    status quo will not be disturbed at ayodhya; s...\n",
              "2                  fissures in hurriyat over pak visit\n",
              "3                america's unwanted heading for india?\n",
              "4                   for bigwigs; it is destination goa\n",
              "Name: headline_text, dtype: object"
            ]
          },
          "metadata": {
            "tags": []
          },
          "execution_count": 95
        }
      ]
    },
    {
      "cell_type": "code",
      "metadata": {
        "id": "l-_wSWRTQO2M",
        "outputId": "74154c4f-27ce-409e-d953-8bf7e57bab49",
        "colab": {
          "base_uri": "https://localhost:8080/",
          "height": 119
        }
      },
      "source": [
        "#REMOVING PUNCTUATIONS\n",
        "df2['headline_text'] = df2['headline_text'].str.replace('[^\\w\\s]','')\n",
        "df2['headline_text'].head()"
      ],
      "execution_count": 96,
      "outputs": [
        {
          "output_type": "execute_result",
          "data": {
            "text/plain": [
              "0    win over cena satisfying but defeating underta...\n",
              "1    status quo will not be disturbed at ayodhya sa...\n",
              "2                  fissures in hurriyat over pak visit\n",
              "3                  americas unwanted heading for india\n",
              "4                    for bigwigs it is destination goa\n",
              "Name: headline_text, dtype: object"
            ]
          },
          "metadata": {
            "tags": []
          },
          "execution_count": 96
        }
      ]
    },
    {
      "cell_type": "code",
      "metadata": {
        "id": "ygR2apM9Q2QS",
        "outputId": "bc4c848e-d664-4227-953d-d57f811e5482",
        "colab": {
          "base_uri": "https://localhost:8080/",
          "height": 204
        }
      },
      "source": [
        "#CALCULATING THE NUMBER OF STOPWORDS\n",
        "stop = stopwords.words('english')\n",
        "\n",
        "df2['stopwords'] = df2['headline_text'].apply(lambda x: len([x for x in x.split() if x in stop]))\n",
        "df2[['headline_text','stopwords']].head()"
      ],
      "execution_count": 97,
      "outputs": [
        {
          "output_type": "execute_result",
          "data": {
            "text/html": [
              "<div>\n",
              "<style scoped>\n",
              "    .dataframe tbody tr th:only-of-type {\n",
              "        vertical-align: middle;\n",
              "    }\n",
              "\n",
              "    .dataframe tbody tr th {\n",
              "        vertical-align: top;\n",
              "    }\n",
              "\n",
              "    .dataframe thead th {\n",
              "        text-align: right;\n",
              "    }\n",
              "</style>\n",
              "<table border=\"1\" class=\"dataframe\">\n",
              "  <thead>\n",
              "    <tr style=\"text-align: right;\">\n",
              "      <th></th>\n",
              "      <th>headline_text</th>\n",
              "      <th>stopwords</th>\n",
              "    </tr>\n",
              "  </thead>\n",
              "  <tbody>\n",
              "    <tr>\n",
              "      <th>0</th>\n",
              "      <td>win over cena satisfying but defeating underta...</td>\n",
              "      <td>2</td>\n",
              "    </tr>\n",
              "    <tr>\n",
              "      <th>1</th>\n",
              "      <td>status quo will not be disturbed at ayodhya sa...</td>\n",
              "      <td>4</td>\n",
              "    </tr>\n",
              "    <tr>\n",
              "      <th>2</th>\n",
              "      <td>fissures in hurriyat over pak visit</td>\n",
              "      <td>2</td>\n",
              "    </tr>\n",
              "    <tr>\n",
              "      <th>3</th>\n",
              "      <td>americas unwanted heading for india</td>\n",
              "      <td>1</td>\n",
              "    </tr>\n",
              "    <tr>\n",
              "      <th>4</th>\n",
              "      <td>for bigwigs it is destination goa</td>\n",
              "      <td>3</td>\n",
              "    </tr>\n",
              "  </tbody>\n",
              "</table>\n",
              "</div>"
            ],
            "text/plain": [
              "                                       headline_text  stopwords\n",
              "0  win over cena satisfying but defeating underta...          2\n",
              "1  status quo will not be disturbed at ayodhya sa...          4\n",
              "2                fissures in hurriyat over pak visit          2\n",
              "3                americas unwanted heading for india          1\n",
              "4                  for bigwigs it is destination goa          3"
            ]
          },
          "metadata": {
            "tags": []
          },
          "execution_count": 97
        }
      ]
    },
    {
      "cell_type": "code",
      "metadata": {
        "id": "7wlWb1WjQPGV",
        "outputId": "61a2d02a-6a5d-4818-b962-8307c3a037c5",
        "colab": {
          "base_uri": "https://localhost:8080/",
          "height": 119
        }
      },
      "source": [
        "#REMOVING STOPWORDS\n",
        "stop = stopwords.words('english')\n",
        "df2['headline_text'] = df2['headline_text'].apply(\n",
        "    lambda x: \" \".join(x for x in x.split() if x not in stop))\n",
        "df2['headline_text'].head()"
      ],
      "execution_count": 98,
      "outputs": [
        {
          "output_type": "execute_result",
          "data": {
            "text/plain": [
              "0    win cena satisfying defeating undertaker bigge...\n",
              "1           status quo disturbed ayodhya says vajpayee\n",
              "2                          fissures hurriyat pak visit\n",
              "3                      americas unwanted heading india\n",
              "4                              bigwigs destination goa\n",
              "Name: headline_text, dtype: object"
            ]
          },
          "metadata": {
            "tags": []
          },
          "execution_count": 98
        }
      ]
    },
    {
      "cell_type": "code",
      "metadata": {
        "id": "j4G7t8xXQPLq",
        "outputId": "ad58fbc1-931e-4196-bf3f-4c3b1cfdf7fc",
        "colab": {
          "base_uri": "https://localhost:8080/",
          "height": 204
        }
      },
      "source": [
        "#REMOVING COMMON WORDS\n",
        "freq = pd.Series(' '.join(df2['headline_text']).split()).value_counts()[:10]\n",
        "freq"
      ],
      "execution_count": 99,
      "outputs": [
        {
          "output_type": "execute_result",
          "data": {
            "text/plain": [
              "govt     147\n",
              "india    105\n",
              "new       87\n",
              "cong      63\n",
              "cm        59\n",
              "us        57\n",
              "may       56\n",
              "power     54\n",
              "says      53\n",
              "get       53\n",
              "dtype: int64"
            ]
          },
          "metadata": {
            "tags": []
          },
          "execution_count": 99
        }
      ]
    },
    {
      "cell_type": "code",
      "metadata": {
        "id": "XX-Paa9TQPVg",
        "outputId": "1f4ce90c-1a11-44fc-d815-55eea701f9c9",
        "colab": {
          "base_uri": "https://localhost:8080/",
          "height": 119
        }
      },
      "source": [
        "freq = list(freq.index)\n",
        "df2['headline_text'] = df2['headline_text'].apply(\n",
        "    lambda x: \" \".join(x for x in x.split() if x not in freq))\n",
        "df2['headline_text'].head()"
      ],
      "execution_count": 100,
      "outputs": [
        {
          "output_type": "execute_result",
          "data": {
            "text/plain": [
              "0    win cena satisfying defeating undertaker bigge...\n",
              "1                status quo disturbed ayodhya vajpayee\n",
              "2                          fissures hurriyat pak visit\n",
              "3                            americas unwanted heading\n",
              "4                              bigwigs destination goa\n",
              "Name: headline_text, dtype: object"
            ]
          },
          "metadata": {
            "tags": []
          },
          "execution_count": 100
        }
      ]
    },
    {
      "cell_type": "code",
      "metadata": {
        "id": "2Ye9zMG5QPey",
        "outputId": "a10e8e6c-6a44-4a1d-90d1-5652ed46e092",
        "colab": {
          "base_uri": "https://localhost:8080/",
          "height": 204
        }
      },
      "source": [
        "#REMOVING RARE WORDS TO GET RID OF NOISE\n",
        "freq = pd.Series(' '.join(df2['headline_text']).split()).value_counts()[-10:]\n",
        "freq"
      ],
      "execution_count": 101,
      "outputs": [
        {
          "output_type": "execute_result",
          "data": {
            "text/plain": [
              "filing           1\n",
              "ngef             1\n",
              "breakthroughs    1\n",
              "debris           1\n",
              "drowns           1\n",
              "clamped          1\n",
              "jac              1\n",
              "squillari        1\n",
              "electronic       1\n",
              "thank            1\n",
              "dtype: int64"
            ]
          },
          "metadata": {
            "tags": []
          },
          "execution_count": 101
        }
      ]
    },
    {
      "cell_type": "code",
      "metadata": {
        "id": "mcxi3oU9QPyI",
        "outputId": "993cc32e-51aa-4d03-88ca-538573e0c3b6",
        "colab": {
          "base_uri": "https://localhost:8080/",
          "height": 221
        }
      },
      "source": [
        "#STEMMING\n",
        "st = PorterStemmer()\n",
        "df2['headline_text'].apply(lambda x: \" \".join([st.stem(word) for word in x.split()]))"
      ],
      "execution_count": 112,
      "outputs": [
        {
          "output_type": "execute_result",
          "data": {
            "text/plain": [
              "0       win cena satisfi defeat undertak bigger roman ...\n",
              "1                       statu quo disturb ayodhya vajpaye\n",
              "2                               fissur hurriyat pak visit\n",
              "3                                     america unwant head\n",
              "4                                       bigwig destin goa\n",
              "                              ...                        \n",
              "4995                     resid upbeat premier second come\n",
              "4996                    flashback time rememb jim corbett\n",
              "4997                       oracl invest 15m develop centr\n",
              "4998                                 foreign order review\n",
              "4999                           dismiss order pass hurryhc\n",
              "Name: headline_text, Length: 4337, dtype: object"
            ]
          },
          "metadata": {
            "tags": []
          },
          "execution_count": 112
        }
      ]
    },
    {
      "cell_type": "code",
      "metadata": {
        "id": "AN_g_MP7SYGK",
        "outputId": "3e3a6376-d2bb-4c8e-a786-2a536c840390",
        "colab": {
          "base_uri": "https://localhost:8080/",
          "height": 419
        }
      },
      "source": [
        "#TERM FREQUENCY\n",
        "tf1 = (df2['headline_text'][1:]).apply(lambda x: pd.value_counts(x.split(\" \"))).sum(axis = 0).reset_index()\n",
        "tf1.columns = ['words','tf']\n",
        "tf1"
      ],
      "execution_count": 113,
      "outputs": [
        {
          "output_type": "execute_result",
          "data": {
            "text/html": [
              "<div>\n",
              "<style scoped>\n",
              "    .dataframe tbody tr th:only-of-type {\n",
              "        vertical-align: middle;\n",
              "    }\n",
              "\n",
              "    .dataframe tbody tr th {\n",
              "        vertical-align: top;\n",
              "    }\n",
              "\n",
              "    .dataframe thead th {\n",
              "        text-align: right;\n",
              "    }\n",
              "</style>\n",
              "<table border=\"1\" class=\"dataframe\">\n",
              "  <thead>\n",
              "    <tr style=\"text-align: right;\">\n",
              "      <th></th>\n",
              "      <th>words</th>\n",
              "      <th>tf</th>\n",
              "    </tr>\n",
              "  </thead>\n",
              "  <tbody>\n",
              "    <tr>\n",
              "      <th>0</th>\n",
              "      <td>ayodhya</td>\n",
              "      <td>8.0</td>\n",
              "    </tr>\n",
              "    <tr>\n",
              "      <th>1</th>\n",
              "      <td>vajpayee</td>\n",
              "      <td>14.0</td>\n",
              "    </tr>\n",
              "    <tr>\n",
              "      <th>2</th>\n",
              "      <td>disturbed</td>\n",
              "      <td>1.0</td>\n",
              "    </tr>\n",
              "    <tr>\n",
              "      <th>3</th>\n",
              "      <td>quo</td>\n",
              "      <td>1.0</td>\n",
              "    </tr>\n",
              "    <tr>\n",
              "      <th>4</th>\n",
              "      <td>status</td>\n",
              "      <td>7.0</td>\n",
              "    </tr>\n",
              "    <tr>\n",
              "      <th>...</th>\n",
              "      <td>...</td>\n",
              "      <td>...</td>\n",
              "    </tr>\n",
              "    <tr>\n",
              "      <th>7830</th>\n",
              "      <td>15m</td>\n",
              "      <td>1.0</td>\n",
              "    </tr>\n",
              "    <tr>\n",
              "      <th>7831</th>\n",
              "      <td>oracle</td>\n",
              "      <td>1.0</td>\n",
              "    </tr>\n",
              "    <tr>\n",
              "      <th>7832</th>\n",
              "      <td>reviewed</td>\n",
              "      <td>1.0</td>\n",
              "    </tr>\n",
              "    <tr>\n",
              "      <th>7833</th>\n",
              "      <td>dismissal</td>\n",
              "      <td>1.0</td>\n",
              "    </tr>\n",
              "    <tr>\n",
              "      <th>7834</th>\n",
              "      <td>hurryhc</td>\n",
              "      <td>1.0</td>\n",
              "    </tr>\n",
              "  </tbody>\n",
              "</table>\n",
              "<p>7835 rows × 2 columns</p>\n",
              "</div>"
            ],
            "text/plain": [
              "          words    tf\n",
              "0       ayodhya   8.0\n",
              "1      vajpayee  14.0\n",
              "2     disturbed   1.0\n",
              "3           quo   1.0\n",
              "4        status   7.0\n",
              "...         ...   ...\n",
              "7830        15m   1.0\n",
              "7831     oracle   1.0\n",
              "7832   reviewed   1.0\n",
              "7833  dismissal   1.0\n",
              "7834    hurryhc   1.0\n",
              "\n",
              "[7835 rows x 2 columns]"
            ]
          },
          "metadata": {
            "tags": []
          },
          "execution_count": 113
        }
      ]
    },
    {
      "cell_type": "markdown",
      "metadata": {
        "id": "r5s48BesTKyc"
      },
      "source": [
        "FINALLY! LETS PERFORM SENTIMENTAL ANALYSIS FOR EACH ROWS IN A HEADLINE_TEXT COLUMN\n",
        "CHECKING SENTIMENT (-1:NEGATIVE, 0:NEUTRAL, 1:POSITIVE)¶"
      ]
    },
    {
      "cell_type": "code",
      "metadata": {
        "id": "Bac23WUiSZD7",
        "outputId": "2052a6e9-9670-4b27-c9bb-ec3dd5f399f5",
        "colab": {
          "base_uri": "https://localhost:8080/",
          "height": 221
        }
      },
      "source": [
        "df2['headline_text'][1:].apply(lambda x: TextBlob(x).sentiment)"
      ],
      "execution_count": 115,
      "outputs": [
        {
          "output_type": "execute_result",
          "data": {
            "text/plain": [
              "1                                       (0.0, 0.0)\n",
              "2                                       (0.0, 0.0)\n",
              "3                                       (0.0, 0.0)\n",
              "4                                       (0.0, 0.0)\n",
              "5       (0.05000000000000001, 0.24166666666666664)\n",
              "                           ...                    \n",
              "4995                                    (0.0, 0.0)\n",
              "4996                                    (0.0, 0.0)\n",
              "4997                                    (0.0, 0.0)\n",
              "4998                                    (0.0, 0.0)\n",
              "4999                                    (0.0, 0.0)\n",
              "Name: headline_text, Length: 4336, dtype: object"
            ]
          },
          "metadata": {
            "tags": []
          },
          "execution_count": 115
        }
      ]
    },
    {
      "cell_type": "code",
      "metadata": {
        "id": "ZdnOQyFASZW5",
        "outputId": "834a19ff-a112-4ed3-9c06-90a0bff46b9f",
        "colab": {
          "base_uri": "https://localhost:8080/",
          "height": 204
        }
      },
      "source": [
        "#NOW ASSIGNING POLARITY TO EACH ROWS OF STATEMENT. POLARITY RANGE FROM -1 TO 1\n",
        "df2['sentiment'] = df2['headline_text'].apply(lambda x: TextBlob(x).sentiment[0] )\n",
        "df2[['headline_text','sentiment']].head()"
      ],
      "execution_count": 116,
      "outputs": [
        {
          "output_type": "execute_result",
          "data": {
            "text/html": [
              "<div>\n",
              "<style scoped>\n",
              "    .dataframe tbody tr th:only-of-type {\n",
              "        vertical-align: middle;\n",
              "    }\n",
              "\n",
              "    .dataframe tbody tr th {\n",
              "        vertical-align: top;\n",
              "    }\n",
              "\n",
              "    .dataframe thead th {\n",
              "        text-align: right;\n",
              "    }\n",
              "</style>\n",
              "<table border=\"1\" class=\"dataframe\">\n",
              "  <thead>\n",
              "    <tr style=\"text-align: right;\">\n",
              "      <th></th>\n",
              "      <th>headline_text</th>\n",
              "      <th>sentiment</th>\n",
              "    </tr>\n",
              "  </thead>\n",
              "  <tbody>\n",
              "    <tr>\n",
              "      <th>0</th>\n",
              "      <td>win cena satisfying defeating undertaker bigge...</td>\n",
              "      <td>0.433333</td>\n",
              "    </tr>\n",
              "    <tr>\n",
              "      <th>1</th>\n",
              "      <td>status quo disturbed ayodhya vajpayee</td>\n",
              "      <td>0.000000</td>\n",
              "    </tr>\n",
              "    <tr>\n",
              "      <th>2</th>\n",
              "      <td>fissures hurriyat pak visit</td>\n",
              "      <td>0.000000</td>\n",
              "    </tr>\n",
              "    <tr>\n",
              "      <th>3</th>\n",
              "      <td>americas unwanted heading</td>\n",
              "      <td>0.000000</td>\n",
              "    </tr>\n",
              "    <tr>\n",
              "      <th>4</th>\n",
              "      <td>bigwigs destination goa</td>\n",
              "      <td>0.000000</td>\n",
              "    </tr>\n",
              "  </tbody>\n",
              "</table>\n",
              "</div>"
            ],
            "text/plain": [
              "                                       headline_text  sentiment\n",
              "0  win cena satisfying defeating undertaker bigge...   0.433333\n",
              "1              status quo disturbed ayodhya vajpayee   0.000000\n",
              "2                        fissures hurriyat pak visit   0.000000\n",
              "3                          americas unwanted heading   0.000000\n",
              "4                            bigwigs destination goa   0.000000"
            ]
          },
          "metadata": {
            "tags": []
          },
          "execution_count": 116
        }
      ]
    },
    {
      "cell_type": "code",
      "metadata": {
        "id": "86-p2fmYSZoH",
        "outputId": "791766cc-a3dc-4c73-e32c-15fec1243e99",
        "colab": {
          "base_uri": "https://localhost:8080/",
          "height": 504
        }
      },
      "source": [
        "df2"
      ],
      "execution_count": 117,
      "outputs": [
        {
          "output_type": "execute_result",
          "data": {
            "text/html": [
              "<div>\n",
              "<style scoped>\n",
              "    .dataframe tbody tr th:only-of-type {\n",
              "        vertical-align: middle;\n",
              "    }\n",
              "\n",
              "    .dataframe tbody tr th {\n",
              "        vertical-align: top;\n",
              "    }\n",
              "\n",
              "    .dataframe thead th {\n",
              "        text-align: right;\n",
              "    }\n",
              "</style>\n",
              "<table border=\"1\" class=\"dataframe\">\n",
              "  <thead>\n",
              "    <tr style=\"text-align: right;\">\n",
              "      <th></th>\n",
              "      <th>headline_category</th>\n",
              "      <th>headline_text</th>\n",
              "      <th>word_count</th>\n",
              "      <th>char_count</th>\n",
              "      <th>avg_word</th>\n",
              "      <th>hastags</th>\n",
              "      <th>numerics</th>\n",
              "      <th>upper</th>\n",
              "      <th>stopwords</th>\n",
              "      <th>sentiment</th>\n",
              "    </tr>\n",
              "  </thead>\n",
              "  <tbody>\n",
              "    <tr>\n",
              "      <th>0</th>\n",
              "      <td>sports.wwe</td>\n",
              "      <td>win cena satisfying defeating undertaker bigge...</td>\n",
              "      <td>10</td>\n",
              "      <td>69</td>\n",
              "      <td>6.000000</td>\n",
              "      <td>0</td>\n",
              "      <td>0</td>\n",
              "      <td>0</td>\n",
              "      <td>2</td>\n",
              "      <td>0.433333</td>\n",
              "    </tr>\n",
              "    <tr>\n",
              "      <th>1</th>\n",
              "      <td>unknown</td>\n",
              "      <td>status quo disturbed ayodhya vajpayee</td>\n",
              "      <td>10</td>\n",
              "      <td>58</td>\n",
              "      <td>4.900000</td>\n",
              "      <td>0</td>\n",
              "      <td>0</td>\n",
              "      <td>0</td>\n",
              "      <td>4</td>\n",
              "      <td>0.000000</td>\n",
              "    </tr>\n",
              "    <tr>\n",
              "      <th>2</th>\n",
              "      <td>unknown</td>\n",
              "      <td>fissures hurriyat pak visit</td>\n",
              "      <td>6</td>\n",
              "      <td>35</td>\n",
              "      <td>5.000000</td>\n",
              "      <td>0</td>\n",
              "      <td>0</td>\n",
              "      <td>0</td>\n",
              "      <td>2</td>\n",
              "      <td>0.000000</td>\n",
              "    </tr>\n",
              "    <tr>\n",
              "      <th>3</th>\n",
              "      <td>unknown</td>\n",
              "      <td>americas unwanted heading</td>\n",
              "      <td>5</td>\n",
              "      <td>37</td>\n",
              "      <td>6.600000</td>\n",
              "      <td>0</td>\n",
              "      <td>0</td>\n",
              "      <td>0</td>\n",
              "      <td>1</td>\n",
              "      <td>0.000000</td>\n",
              "    </tr>\n",
              "    <tr>\n",
              "      <th>4</th>\n",
              "      <td>unknown</td>\n",
              "      <td>bigwigs destination goa</td>\n",
              "      <td>6</td>\n",
              "      <td>34</td>\n",
              "      <td>4.833333</td>\n",
              "      <td>0</td>\n",
              "      <td>0</td>\n",
              "      <td>0</td>\n",
              "      <td>3</td>\n",
              "      <td>0.000000</td>\n",
              "    </tr>\n",
              "    <tr>\n",
              "      <th>...</th>\n",
              "      <td>...</td>\n",
              "      <td>...</td>\n",
              "      <td>...</td>\n",
              "      <td>...</td>\n",
              "      <td>...</td>\n",
              "      <td>...</td>\n",
              "      <td>...</td>\n",
              "      <td>...</td>\n",
              "      <td>...</td>\n",
              "      <td>...</td>\n",
              "    </tr>\n",
              "    <tr>\n",
              "      <th>4995</th>\n",
              "      <td>city.mumbai</td>\n",
              "      <td>residents upbeat premiers second coming</td>\n",
              "      <td>6</td>\n",
              "      <td>46</td>\n",
              "      <td>6.833333</td>\n",
              "      <td>0</td>\n",
              "      <td>0</td>\n",
              "      <td>0</td>\n",
              "      <td>1</td>\n",
              "      <td>0.000000</td>\n",
              "    </tr>\n",
              "    <tr>\n",
              "      <th>4996</th>\n",
              "      <td>city.bengaluru</td>\n",
              "      <td>flashback time remembering jim corbett</td>\n",
              "      <td>5</td>\n",
              "      <td>39</td>\n",
              "      <td>7.000000</td>\n",
              "      <td>0</td>\n",
              "      <td>0</td>\n",
              "      <td>0</td>\n",
              "      <td>0</td>\n",
              "      <td>0.000000</td>\n",
              "    </tr>\n",
              "    <tr>\n",
              "      <th>4997</th>\n",
              "      <td>city.hyderabad</td>\n",
              "      <td>oracle invest 15m development centre</td>\n",
              "      <td>7</td>\n",
              "      <td>43</td>\n",
              "      <td>5.285714</td>\n",
              "      <td>0</td>\n",
              "      <td>0</td>\n",
              "      <td>0</td>\n",
              "      <td>2</td>\n",
              "      <td>0.000000</td>\n",
              "    </tr>\n",
              "    <tr>\n",
              "      <th>4998</th>\n",
              "      <td>india</td>\n",
              "      <td>foreigners order reviewed</td>\n",
              "      <td>5</td>\n",
              "      <td>32</td>\n",
              "      <td>5.600000</td>\n",
              "      <td>0</td>\n",
              "      <td>0</td>\n",
              "      <td>0</td>\n",
              "      <td>2</td>\n",
              "      <td>0.000000</td>\n",
              "    </tr>\n",
              "    <tr>\n",
              "      <th>4999</th>\n",
              "      <td>city.lucknow</td>\n",
              "      <td>dismissal order passed hurryhc</td>\n",
              "      <td>8</td>\n",
              "      <td>48</td>\n",
              "      <td>5.125000</td>\n",
              "      <td>0</td>\n",
              "      <td>0</td>\n",
              "      <td>0</td>\n",
              "      <td>4</td>\n",
              "      <td>0.000000</td>\n",
              "    </tr>\n",
              "  </tbody>\n",
              "</table>\n",
              "<p>4337 rows × 10 columns</p>\n",
              "</div>"
            ],
            "text/plain": [
              "     headline_category  ... sentiment\n",
              "0           sports.wwe  ...  0.433333\n",
              "1              unknown  ...  0.000000\n",
              "2              unknown  ...  0.000000\n",
              "3              unknown  ...  0.000000\n",
              "4              unknown  ...  0.000000\n",
              "...                ...  ...       ...\n",
              "4995       city.mumbai  ...  0.000000\n",
              "4996    city.bengaluru  ...  0.000000\n",
              "4997    city.hyderabad  ...  0.000000\n",
              "4998             india  ...  0.000000\n",
              "4999      city.lucknow  ...  0.000000\n",
              "\n",
              "[4337 rows x 10 columns]"
            ]
          },
          "metadata": {
            "tags": []
          },
          "execution_count": 117
        }
      ]
    },
    {
      "cell_type": "markdown",
      "metadata": {
        "id": "W68qCMB6bYgl"
      },
      "source": [
        "ASSIGNING VALUE 1 TO ALL THOSE SENTIMENTS WHOSE POLARITY IS GREATER THAN 0 , AND VALUE -1 TO ALL THOSE SENTIMENTS WHOSE POLARITY IS SMALLER THAN 0 WHILE LEAVING SENTIMENTS WHOSE POLARITY IS EQUAL TO ZERO AS IT IS¶"
      ]
    },
    {
      "cell_type": "code",
      "metadata": {
        "id": "hO2Yq8A9VM4s"
      },
      "source": [
        "x1=df2[df2['sentiment']>=0.5]\n",
        "x2=df2[df2['sentiment']<0.5]"
      ],
      "execution_count": 118,
      "outputs": []
    },
    {
      "cell_type": "code",
      "metadata": {
        "id": "0-eo0UBpVSrP"
      },
      "source": [
        "df2['sentiment']=df2['sentiment'].astype(float)\n",
        "df2.sentiment[df2.sentiment>0]=1\n",
        "df2.sentiment[df2.sentiment<0]=-1;"
      ],
      "execution_count": 119,
      "outputs": []
    },
    {
      "cell_type": "code",
      "metadata": {
        "id": "skn7mFCpVYBI",
        "outputId": "756afdc9-3233-4226-f9b0-39bd9be28b28",
        "colab": {
          "base_uri": "https://localhost:8080/",
          "height": 771
        }
      },
      "source": [
        "#FINAL DATASET TABLE\n",
        "df2.head(20)"
      ],
      "execution_count": 66,
      "outputs": [
        {
          "output_type": "execute_result",
          "data": {
            "text/html": [
              "<div>\n",
              "<style scoped>\n",
              "    .dataframe tbody tr th:only-of-type {\n",
              "        vertical-align: middle;\n",
              "    }\n",
              "\n",
              "    .dataframe tbody tr th {\n",
              "        vertical-align: top;\n",
              "    }\n",
              "\n",
              "    .dataframe thead th {\n",
              "        text-align: right;\n",
              "    }\n",
              "</style>\n",
              "<table border=\"1\" class=\"dataframe\">\n",
              "  <thead>\n",
              "    <tr style=\"text-align: right;\">\n",
              "      <th></th>\n",
              "      <th>headline_category</th>\n",
              "      <th>headline_text</th>\n",
              "      <th>word_count</th>\n",
              "      <th>char_count</th>\n",
              "      <th>avg_word</th>\n",
              "      <th>hastags</th>\n",
              "      <th>numerics</th>\n",
              "      <th>upper</th>\n",
              "      <th>stopwords</th>\n",
              "      <th>sentiment</th>\n",
              "    </tr>\n",
              "  </thead>\n",
              "  <tbody>\n",
              "    <tr>\n",
              "      <th>0</th>\n",
              "      <td>sports.wwe</td>\n",
              "      <td>win cena satisfying defeating undertaker bigge...</td>\n",
              "      <td>10</td>\n",
              "      <td>69</td>\n",
              "      <td>6.000000</td>\n",
              "      <td>0</td>\n",
              "      <td>0</td>\n",
              "      <td>0</td>\n",
              "      <td>2</td>\n",
              "      <td>1.0</td>\n",
              "    </tr>\n",
              "    <tr>\n",
              "      <th>1</th>\n",
              "      <td>unknown</td>\n",
              "      <td>status quo disturbed ayodhya vajpayee</td>\n",
              "      <td>10</td>\n",
              "      <td>58</td>\n",
              "      <td>4.900000</td>\n",
              "      <td>0</td>\n",
              "      <td>0</td>\n",
              "      <td>0</td>\n",
              "      <td>4</td>\n",
              "      <td>0.0</td>\n",
              "    </tr>\n",
              "    <tr>\n",
              "      <th>2</th>\n",
              "      <td>unknown</td>\n",
              "      <td>fissures hurriyat pak visit</td>\n",
              "      <td>6</td>\n",
              "      <td>35</td>\n",
              "      <td>5.000000</td>\n",
              "      <td>0</td>\n",
              "      <td>0</td>\n",
              "      <td>0</td>\n",
              "      <td>2</td>\n",
              "      <td>0.0</td>\n",
              "    </tr>\n",
              "    <tr>\n",
              "      <th>3</th>\n",
              "      <td>unknown</td>\n",
              "      <td>americas unwanted heading</td>\n",
              "      <td>5</td>\n",
              "      <td>37</td>\n",
              "      <td>6.600000</td>\n",
              "      <td>0</td>\n",
              "      <td>0</td>\n",
              "      <td>0</td>\n",
              "      <td>1</td>\n",
              "      <td>0.0</td>\n",
              "    </tr>\n",
              "    <tr>\n",
              "      <th>4</th>\n",
              "      <td>unknown</td>\n",
              "      <td>bigwigs destination goa</td>\n",
              "      <td>6</td>\n",
              "      <td>34</td>\n",
              "      <td>4.833333</td>\n",
              "      <td>0</td>\n",
              "      <td>0</td>\n",
              "      <td>0</td>\n",
              "      <td>3</td>\n",
              "      <td>0.0</td>\n",
              "    </tr>\n",
              "    <tr>\n",
              "      <th>5</th>\n",
              "      <td>unknown</td>\n",
              "      <td>extra buses clear tourist traffic</td>\n",
              "      <td>6</td>\n",
              "      <td>36</td>\n",
              "      <td>5.166667</td>\n",
              "      <td>0</td>\n",
              "      <td>0</td>\n",
              "      <td>0</td>\n",
              "      <td>1</td>\n",
              "      <td>1.0</td>\n",
              "    </tr>\n",
              "    <tr>\n",
              "      <th>6</th>\n",
              "      <td>unknown</td>\n",
              "      <td>dilute transfers riberio</td>\n",
              "      <td>7</td>\n",
              "      <td>43</td>\n",
              "      <td>5.285714</td>\n",
              "      <td>0</td>\n",
              "      <td>0</td>\n",
              "      <td>0</td>\n",
              "      <td>2</td>\n",
              "      <td>0.0</td>\n",
              "    </tr>\n",
              "    <tr>\n",
              "      <th>7</th>\n",
              "      <td>unknown</td>\n",
              "      <td>focus shifts teaching hindi</td>\n",
              "      <td>6</td>\n",
              "      <td>33</td>\n",
              "      <td>4.666667</td>\n",
              "      <td>0</td>\n",
              "      <td>0</td>\n",
              "      <td>0</td>\n",
              "      <td>2</td>\n",
              "      <td>0.0</td>\n",
              "    </tr>\n",
              "    <tr>\n",
              "      <th>8</th>\n",
              "      <td>unknown</td>\n",
              "      <td>become compulsory schools</td>\n",
              "      <td>6</td>\n",
              "      <td>36</td>\n",
              "      <td>5.166667</td>\n",
              "      <td>0</td>\n",
              "      <td>0</td>\n",
              "      <td>1</td>\n",
              "      <td>3</td>\n",
              "      <td>0.0</td>\n",
              "    </tr>\n",
              "    <tr>\n",
              "      <th>9</th>\n",
              "      <td>unknown</td>\n",
              "      <td>move stop freedom fighters pension flayed</td>\n",
              "      <td>7</td>\n",
              "      <td>45</td>\n",
              "      <td>5.571429</td>\n",
              "      <td>0</td>\n",
              "      <td>0</td>\n",
              "      <td>0</td>\n",
              "      <td>1</td>\n",
              "      <td>0.0</td>\n",
              "    </tr>\n",
              "    <tr>\n",
              "      <th>10</th>\n",
              "      <td>unknown</td>\n",
              "      <td>gilani claims applied passport 2 years ago</td>\n",
              "      <td>9</td>\n",
              "      <td>49</td>\n",
              "      <td>4.555556</td>\n",
              "      <td>0</td>\n",
              "      <td>1</td>\n",
              "      <td>0</td>\n",
              "      <td>2</td>\n",
              "      <td>0.0</td>\n",
              "    </tr>\n",
              "    <tr>\n",
              "      <th>11</th>\n",
              "      <td>unknown</td>\n",
              "      <td>parivar dismisses pms warning</td>\n",
              "      <td>4</td>\n",
              "      <td>30</td>\n",
              "      <td>6.750000</td>\n",
              "      <td>0</td>\n",
              "      <td>0</td>\n",
              "      <td>0</td>\n",
              "      <td>0</td>\n",
              "      <td>0.0</td>\n",
              "    </tr>\n",
              "    <tr>\n",
              "      <th>12</th>\n",
              "      <td>unknown</td>\n",
              "      <td>pak exchange lists nplants</td>\n",
              "      <td>6</td>\n",
              "      <td>37</td>\n",
              "      <td>5.333333</td>\n",
              "      <td>0</td>\n",
              "      <td>0</td>\n",
              "      <td>0</td>\n",
              "      <td>1</td>\n",
              "      <td>0.0</td>\n",
              "    </tr>\n",
              "    <tr>\n",
              "      <th>13</th>\n",
              "      <td>unknown</td>\n",
              "      <td>qureshis return really help</td>\n",
              "      <td>7</td>\n",
              "      <td>43</td>\n",
              "      <td>5.285714</td>\n",
              "      <td>0</td>\n",
              "      <td>0</td>\n",
              "      <td>0</td>\n",
              "      <td>2</td>\n",
              "      <td>1.0</td>\n",
              "    </tr>\n",
              "    <tr>\n",
              "      <th>14</th>\n",
              "      <td>unknown</td>\n",
              "      <td>pms tacit message put ram tample hold</td>\n",
              "      <td>8</td>\n",
              "      <td>42</td>\n",
              "      <td>4.375000</td>\n",
              "      <td>0</td>\n",
              "      <td>0</td>\n",
              "      <td>0</td>\n",
              "      <td>1</td>\n",
              "      <td>0.0</td>\n",
              "    </tr>\n",
              "    <tr>\n",
              "      <th>15</th>\n",
              "      <td>unknown</td>\n",
              "      <td>text prime ministers article</td>\n",
              "      <td>6</td>\n",
              "      <td>36</td>\n",
              "      <td>5.166667</td>\n",
              "      <td>0</td>\n",
              "      <td>0</td>\n",
              "      <td>0</td>\n",
              "      <td>2</td>\n",
              "      <td>0.0</td>\n",
              "    </tr>\n",
              "    <tr>\n",
              "      <th>16</th>\n",
              "      <td>unknown</td>\n",
              "      <td>ncw focus violence women</td>\n",
              "      <td>7</td>\n",
              "      <td>38</td>\n",
              "      <td>4.571429</td>\n",
              "      <td>0</td>\n",
              "      <td>0</td>\n",
              "      <td>1</td>\n",
              "      <td>3</td>\n",
              "      <td>0.0</td>\n",
              "    </tr>\n",
              "    <tr>\n",
              "      <th>17</th>\n",
              "      <td>unknown</td>\n",
              "      <td>bbcs reality tv focus aiims</td>\n",
              "      <td>7</td>\n",
              "      <td>36</td>\n",
              "      <td>4.285714</td>\n",
              "      <td>0</td>\n",
              "      <td>0</td>\n",
              "      <td>2</td>\n",
              "      <td>2</td>\n",
              "      <td>0.0</td>\n",
              "    </tr>\n",
              "    <tr>\n",
              "      <th>18</th>\n",
              "      <td>unknown</td>\n",
              "      <td>jaitley firm legal reforms</td>\n",
              "      <td>5</td>\n",
              "      <td>29</td>\n",
              "      <td>5.000000</td>\n",
              "      <td>0</td>\n",
              "      <td>0</td>\n",
              "      <td>0</td>\n",
              "      <td>1</td>\n",
              "      <td>0.0</td>\n",
              "    </tr>\n",
              "    <tr>\n",
              "      <th>19</th>\n",
              "      <td>unknown</td>\n",
              "      <td>hoshangabad farmers enough water</td>\n",
              "      <td>5</td>\n",
              "      <td>37</td>\n",
              "      <td>6.600000</td>\n",
              "      <td>0</td>\n",
              "      <td>0</td>\n",
              "      <td>0</td>\n",
              "      <td>1</td>\n",
              "      <td>0.0</td>\n",
              "    </tr>\n",
              "  </tbody>\n",
              "</table>\n",
              "</div>"
            ],
            "text/plain": [
              "   headline_category  ... sentiment\n",
              "0         sports.wwe  ...       1.0\n",
              "1            unknown  ...       0.0\n",
              "2            unknown  ...       0.0\n",
              "3            unknown  ...       0.0\n",
              "4            unknown  ...       0.0\n",
              "5            unknown  ...       1.0\n",
              "6            unknown  ...       0.0\n",
              "7            unknown  ...       0.0\n",
              "8            unknown  ...       0.0\n",
              "9            unknown  ...       0.0\n",
              "10           unknown  ...       0.0\n",
              "11           unknown  ...       0.0\n",
              "12           unknown  ...       0.0\n",
              "13           unknown  ...       1.0\n",
              "14           unknown  ...       0.0\n",
              "15           unknown  ...       0.0\n",
              "16           unknown  ...       0.0\n",
              "17           unknown  ...       0.0\n",
              "18           unknown  ...       0.0\n",
              "19           unknown  ...       0.0\n",
              "\n",
              "[20 rows x 10 columns]"
            ]
          },
          "metadata": {
            "tags": []
          },
          "execution_count": 66
        }
      ]
    },
    {
      "cell_type": "markdown",
      "metadata": {
        "id": "hUbdbD6jbyJU"
      },
      "source": [
        "THE LAST AND FINAL RESULT: VISUALIZING OUR RESULT BY DISTRIBUTING IT AS NEGATIVE, NEUTRAL AND POSITIVE SENTIMENTS BASED ON THEIR SENTIMENTAL POLARITY WE ACQUIRED FROM ALL OF THE ABOVE ANALYSING TECHNIQUES"
      ]
    },
    {
      "cell_type": "code",
      "metadata": {
        "id": "RIQ2sK0FVgRe",
        "outputId": "5b50272b-ee36-45a0-a800-427da4fe5e2c",
        "colab": {
          "base_uri": "https://localhost:8080/",
          "height": 344
        }
      },
      "source": [
        "plt.figure(figsize=(15,5))\n",
        "sns.set(style=\"ticks\")\n",
        "ax=sns.countplot(df2['sentiment'],palette='Reds' )\n",
        "plt.ylabel('count',fontsize = 15)\n",
        "ax.set_xticklabels(['Negative','Neutral','Positive'], fontsize = 15);"
      ],
      "execution_count": 120,
      "outputs": [
        {
          "output_type": "display_data",
          "data": {
            "image/png": "[encoded data removed]",
            "text/plain": [
              "<Figure size 1080x360 with 1 Axes>"
            ]
          },
          "metadata": {
            "tags": []
          }
        }
      ]
    },
    {
      "cell_type": "markdown",
      "metadata": {
        "id": "7riOVFecWA5C"
      },
      "source": [
        "From the above visualization it is very much clear that most of the headline topics published by TOI has neutral sentiments, followed by positive and negative sentiments.¶\n",
        "\n",
        "Note:\n",
        "1. As the dataset was too big to handle with jupyter and collab, I analysed only a part of the dataset\n",
        "2.Actual size of dataset: 32,97,172 rows\n",
        "3.Size of the dataset I used for analyzing: 5000 rows"
      ]
    },
    {
      "cell_type": "code",
      "metadata": {
        "id": "VJCcA4XGWDKI"
      },
      "source": [
        ""
      ],
      "execution_count": null,
      "outputs": []
    }
  ]
}